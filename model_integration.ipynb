{
  "cells": [
    {
      "cell_type": "code",
      "execution_count": 5,
      "metadata": {
        "colab": {
          "base_uri": "https://localhost:8080/"
        },
        "id": "Tqkba7Ah1NOW",
        "outputId": "7eb5920e-9c27-479f-d2a8-4ad28e9111c2"
      },
      "outputs": [
        {
          "name": "stdout",
          "output_type": "stream",
          "text": [
            "Requirement already satisfied: catboost in c:\\users\\wanji\\anaconda3\\envs\\learn-env\\lib\\site-packages (1.2.2)\n",
            "Requirement already satisfied: graphviz in c:\\users\\wanji\\anaconda3\\envs\\learn-env\\lib\\site-packages (from catboost) (0.20.1)\n",
            "Requirement already satisfied: matplotlib in c:\\users\\wanji\\anaconda3\\envs\\learn-env\\lib\\site-packages (from catboost) (3.3.1)\n",
            "Requirement already satisfied: scipy in c:\\users\\wanji\\anaconda3\\envs\\learn-env\\lib\\site-packages (from catboost) (1.10.1)\n",
            "Requirement already satisfied: numpy>=1.16.0 in c:\\users\\wanji\\anaconda3\\envs\\learn-env\\lib\\site-packages (from catboost) (1.24.4)\n",
            "Requirement already satisfied: six in c:\\users\\wanji\\anaconda3\\envs\\learn-env\\lib\\site-packages (from catboost) (1.15.0)\n",
            "Requirement already satisfied: plotly in c:\\users\\wanji\\anaconda3\\envs\\learn-env\\lib\\site-packages (from catboost) (4.11.0)\n",
            "Requirement already satisfied: pandas>=0.24 in c:\\users\\wanji\\anaconda3\\envs\\learn-env\\lib\\site-packages (from catboost) (1.1.3)\n",
            "Requirement already satisfied: certifi>=2020.06.20 in c:\\users\\wanji\\anaconda3\\envs\\learn-env\\lib\\site-packages (from matplotlib->catboost) (2023.7.22)\n",
            "Requirement already satisfied: cycler>=0.10 in c:\\users\\wanji\\anaconda3\\envs\\learn-env\\lib\\site-packages (from matplotlib->catboost) (0.10.0)\n",
            "Requirement already satisfied: pyparsing!=2.0.4,!=2.1.2,!=2.1.6,>=2.0.3 in c:\\users\\wanji\\anaconda3\\envs\\learn-env\\lib\\site-packages (from matplotlib->catboost) (2.4.7)\n",
            "Requirement already satisfied: kiwisolver>=1.0.1 in c:\\users\\wanji\\anaconda3\\envs\\learn-env\\lib\\site-packages (from matplotlib->catboost) (1.2.0)\n",
            "Requirement already satisfied: python-dateutil>=2.1 in c:\\users\\wanji\\anaconda3\\envs\\learn-env\\lib\\site-packages (from matplotlib->catboost) (2.8.1)\n",
            "Requirement already satisfied: pillow>=6.2.0 in c:\\users\\wanji\\anaconda3\\envs\\learn-env\\lib\\site-packages (from matplotlib->catboost) (8.0.0)\n",
            "Requirement already satisfied: retrying>=1.3.3 in c:\\users\\wanji\\anaconda3\\envs\\learn-env\\lib\\site-packages (from plotly->catboost) (1.3.3)\n",
            "Requirement already satisfied: pytz>=2017.2 in c:\\users\\wanji\\anaconda3\\envs\\learn-env\\lib\\site-packages (from pandas>=0.24->catboost) (2020.1)\n"
          ]
        }
      ],
      "source": [
        "!pip install catboost"
      ]
    },
    {
      "cell_type": "code",
      "execution_count": 6,
      "metadata": {
        "id": "3f9dkRAp05C_"
      },
      "outputs": [],
      "source": [
        "#importing necessary library\n",
        "import os\n",
        "import pandas as pd\n",
        "import numpy as np\n",
        "import matplotlib.pyplot as plt\n",
        "%matplotlib inline\n",
        "import seaborn as sns\n",
        "\n",
        "\n",
        "import warnings\n",
        "# Filter out a specific warning category\n",
        "warnings.filterwarnings(\"ignore\")\n",
        "\n",
        "from sklearn.impute import SimpleImputer ## HAndling Missing Values\n",
        "from sklearn.preprocessing import StandardScaler # HAndling Feature Scaling\n",
        "\n",
        "#Train test split\n",
        "from sklearn.model_selection import train_test_split\n",
        "from sklearn.pipeline import Pipeline\n",
        "from sklearn.compose import ColumnTransformer\n",
        "\n",
        "#Model Training\n",
        "from sklearn.linear_model import LinearRegression, Lasso, Ridge, ElasticNet\n",
        "from xgboost import XGBRegressor\n",
        "from catboost import CatBoostRegressor\n",
        "from lightgbm import LGBMRegressor\n",
        "from sklearn.neighbors import KNeighborsRegressor\n",
        "from sklearn.tree import DecisionTreeRegressor\n",
        "from sklearn.ensemble import RandomForestRegressor,AdaBoostRegressor\n",
        "from sklearn.svm import SVR\n",
        "from sklearn.model_selection import cross_val_score\n",
        "\n",
        "#Hypeparameter Tuning\n",
        "from sklearn.model_selection import GridSearchCV\n",
        "\n",
        "from sklearn.metrics import r2_score, mean_absolute_error, mean_squared_error"
      ]
    },
    {
      "cell_type": "code",
      "execution_count": 7,
      "metadata": {
        "colab": {
          "base_uri": "https://localhost:8080/",
          "height": 321
        },
        "id": "4Uct4knT05DB",
        "outputId": "39aee8ad-7608-409f-b1d5-8167910e20b7"
      },
      "outputs": [],
      "source": [
        "data=pd.read_csv(r\"Feature_Engineered_Dataset (1).csv\")"
      ]
    },
    {
      "cell_type": "code",
      "execution_count": 8,
      "metadata": {
        "id": "dP2Jcjc705DC",
        "outputId": "8d366e0c-7f20-4661-dae3-be61105bd697"
      },
      "outputs": [
        {
          "data": {
            "text/html": [
              "<div>\n",
              "<style scoped>\n",
              "    .dataframe tbody tr th:only-of-type {\n",
              "        vertical-align: middle;\n",
              "    }\n",
              "\n",
              "    .dataframe tbody tr th {\n",
              "        vertical-align: top;\n",
              "    }\n",
              "\n",
              "    .dataframe thead th {\n",
              "        text-align: right;\n",
              "    }\n",
              "</style>\n",
              "<table border=\"1\" class=\"dataframe\">\n",
              "  <thead>\n",
              "    <tr style=\"text-align: right;\">\n",
              "      <th></th>\n",
              "      <th>Year</th>\n",
              "      <th>Real_GDP_Ksh</th>\n",
              "      <th>Population_Growth</th>\n",
              "      <th>Female_Labor_Participation</th>\n",
              "      <th>Male_Labor_Participation</th>\n",
              "      <th>Education_Expenditure_Ksh</th>\n",
              "      <th>Inflation</th>\n",
              "      <th>Dollar_Rate</th>\n",
              "      <th>Total_Unemployment</th>\n",
              "      <th>Labor_Total_Population_Ratio</th>\n",
              "      <th>Urban_Population_Growth_Income_Per_Capita_Growth_Ratio</th>\n",
              "    </tr>\n",
              "  </thead>\n",
              "  <tbody>\n",
              "    <tr>\n",
              "      <th>0</th>\n",
              "      <td>2000</td>\n",
              "      <td>982855</td>\n",
              "      <td>2.92</td>\n",
              "      <td>50.46</td>\n",
              "      <td>46.89</td>\n",
              "      <td>4.914291e+10</td>\n",
              "      <td>9.98</td>\n",
              "      <td>76.175542</td>\n",
              "      <td>3.13</td>\n",
              "      <td>0.920229</td>\n",
              "      <td>1.030328</td>\n",
              "    </tr>\n",
              "    <tr>\n",
              "      <th>1</th>\n",
              "      <td>2001</td>\n",
              "      <td>1020111</td>\n",
              "      <td>3.03</td>\n",
              "      <td>50.03</td>\n",
              "      <td>46.87</td>\n",
              "      <td>5.154121e+10</td>\n",
              "      <td>5.73</td>\n",
              "      <td>78.563195</td>\n",
              "      <td>3.07</td>\n",
              "      <td>0.924819</td>\n",
              "      <td>1.050862</td>\n",
              "    </tr>\n",
              "    <tr>\n",
              "      <th>2</th>\n",
              "      <td>2002</td>\n",
              "      <td>1025583</td>\n",
              "      <td>3.03</td>\n",
              "      <td>49.61</td>\n",
              "      <td>46.84</td>\n",
              "      <td>5.949633e+10</td>\n",
              "      <td>1.97</td>\n",
              "      <td>78.749142</td>\n",
              "      <td>3.09</td>\n",
              "      <td>0.923703</td>\n",
              "      <td>1.055151</td>\n",
              "    </tr>\n",
              "    <tr>\n",
              "      <th>3</th>\n",
              "      <td>2003</td>\n",
              "      <td>1055658</td>\n",
              "      <td>2.97</td>\n",
              "      <td>49.18</td>\n",
              "      <td>46.82</td>\n",
              "      <td>7.552908e+10</td>\n",
              "      <td>9.81</td>\n",
              "      <td>84.148300</td>\n",
              "      <td>3.04</td>\n",
              "      <td>0.921479</td>\n",
              "      <td>1.039266</td>\n",
              "    </tr>\n",
              "    <tr>\n",
              "      <th>4</th>\n",
              "      <td>2004</td>\n",
              "      <td>1109338</td>\n",
              "      <td>2.99</td>\n",
              "      <td>48.76</td>\n",
              "      <td>46.79</td>\n",
              "      <td>8.157499e+10</td>\n",
              "      <td>11.80</td>\n",
              "      <td>80.650112</td>\n",
              "      <td>3.00</td>\n",
              "      <td>0.918978</td>\n",
              "      <td>1.043338</td>\n",
              "    </tr>\n",
              "  </tbody>\n",
              "</table>\n",
              "</div>"
            ],
            "text/plain": [
              "   Year  Real_GDP_Ksh  Population_Growth  Female_Labor_Participation  \\\n",
              "0  2000        982855               2.92                       50.46   \n",
              "1  2001       1020111               3.03                       50.03   \n",
              "2  2002       1025583               3.03                       49.61   \n",
              "3  2003       1055658               2.97                       49.18   \n",
              "4  2004       1109338               2.99                       48.76   \n",
              "\n",
              "   Male_Labor_Participation  Education_Expenditure_Ksh  Inflation  \\\n",
              "0                     46.89               4.914291e+10       9.98   \n",
              "1                     46.87               5.154121e+10       5.73   \n",
              "2                     46.84               5.949633e+10       1.97   \n",
              "3                     46.82               7.552908e+10       9.81   \n",
              "4                     46.79               8.157499e+10      11.80   \n",
              "\n",
              "   Dollar_Rate  Total_Unemployment  Labor_Total_Population_Ratio  \\\n",
              "0    76.175542                3.13                      0.920229   \n",
              "1    78.563195                3.07                      0.924819   \n",
              "2    78.749142                3.09                      0.923703   \n",
              "3    84.148300                3.04                      0.921479   \n",
              "4    80.650112                3.00                      0.918978   \n",
              "\n",
              "   Urban_Population_Growth_Income_Per_Capita_Growth_Ratio  \n",
              "0                                           1.030328       \n",
              "1                                           1.050862       \n",
              "2                                           1.055151       \n",
              "3                                           1.039266       \n",
              "4                                           1.043338       "
            ]
          },
          "execution_count": 8,
          "metadata": {},
          "output_type": "execute_result"
        }
      ],
      "source": [
        "data.head()"
      ]
    },
    {
      "cell_type": "code",
      "execution_count": 9,
      "metadata": {
        "id": "_ejszBvw05DC",
        "outputId": "73cdc392-5129-4c55-a57d-f77b3a88f09a"
      },
      "outputs": [
        {
          "name": "stdout",
          "output_type": "stream",
          "text": [
            "<class 'pandas.core.frame.DataFrame'>\n",
            "RangeIndex: 23 entries, 0 to 22\n",
            "Data columns (total 11 columns):\n",
            " #   Column                                                  Non-Null Count  Dtype  \n",
            "---  ------                                                  --------------  -----  \n",
            " 0   Year                                                    23 non-null     int64  \n",
            " 1   Real_GDP_Ksh                                            23 non-null     int64  \n",
            " 2   Population_Growth                                       23 non-null     float64\n",
            " 3   Female_Labor_Participation                              23 non-null     float64\n",
            " 4   Male_Labor_Participation                                23 non-null     float64\n",
            " 5   Education_Expenditure_Ksh                               23 non-null     float64\n",
            " 6   Inflation                                               23 non-null     float64\n",
            " 7   Dollar_Rate                                             23 non-null     float64\n",
            " 8   Total_Unemployment                                      23 non-null     float64\n",
            " 9   Labor_Total_Population_Ratio                            23 non-null     float64\n",
            " 10  Urban_Population_Growth_Income_Per_Capita_Growth_Ratio  23 non-null     float64\n",
            "dtypes: float64(9), int64(2)\n",
            "memory usage: 2.1 KB\n"
          ]
        }
      ],
      "source": [
        "data.info()"
      ]
    },
    {
      "cell_type": "code",
      "execution_count": 10,
      "metadata": {
        "id": "noJM0tuW05DD"
      },
      "outputs": [],
      "source": [
        "X = data.iloc[:, :-1]  # Slice to include all columns except the last one (assuming the last column is \"Total_Unemployment\").\n",
        "y = data.iloc[:, -1]   # Slice to include only the last column (assuming the last column is \"Total_Unemployment\").\n"
      ]
    },
    {
      "cell_type": "code",
      "execution_count": 11,
      "metadata": {
        "id": "fOKSExRw05DD",
        "outputId": "da800e0b-a47d-42e0-f378-e38c1ff27d0e"
      },
      "outputs": [
        {
          "data": {
            "text/html": [
              "<style>#sk-container-id-1 {color: black;background-color: white;}#sk-container-id-1 pre{padding: 0;}#sk-container-id-1 div.sk-toggleable {background-color: white;}#sk-container-id-1 label.sk-toggleable__label {cursor: pointer;display: block;width: 100%;margin-bottom: 0;padding: 0.3em;box-sizing: border-box;text-align: center;}#sk-container-id-1 label.sk-toggleable__label-arrow:before {content: \"▸\";float: left;margin-right: 0.25em;color: #696969;}#sk-container-id-1 label.sk-toggleable__label-arrow:hover:before {color: black;}#sk-container-id-1 div.sk-estimator:hover label.sk-toggleable__label-arrow:before {color: black;}#sk-container-id-1 div.sk-toggleable__content {max-height: 0;max-width: 0;overflow: hidden;text-align: left;background-color: #f0f8ff;}#sk-container-id-1 div.sk-toggleable__content pre {margin: 0.2em;color: black;border-radius: 0.25em;background-color: #f0f8ff;}#sk-container-id-1 input.sk-toggleable__control:checked~div.sk-toggleable__content {max-height: 200px;max-width: 100%;overflow: auto;}#sk-container-id-1 input.sk-toggleable__control:checked~label.sk-toggleable__label-arrow:before {content: \"▾\";}#sk-container-id-1 div.sk-estimator input.sk-toggleable__control:checked~label.sk-toggleable__label {background-color: #d4ebff;}#sk-container-id-1 div.sk-label input.sk-toggleable__control:checked~label.sk-toggleable__label {background-color: #d4ebff;}#sk-container-id-1 input.sk-hidden--visually {border: 0;clip: rect(1px 1px 1px 1px);clip: rect(1px, 1px, 1px, 1px);height: 1px;margin: -1px;overflow: hidden;padding: 0;position: absolute;width: 1px;}#sk-container-id-1 div.sk-estimator {font-family: monospace;background-color: #f0f8ff;border: 1px dotted black;border-radius: 0.25em;box-sizing: border-box;margin-bottom: 0.5em;}#sk-container-id-1 div.sk-estimator:hover {background-color: #d4ebff;}#sk-container-id-1 div.sk-parallel-item::after {content: \"\";width: 100%;border-bottom: 1px solid gray;flex-grow: 1;}#sk-container-id-1 div.sk-label:hover label.sk-toggleable__label {background-color: #d4ebff;}#sk-container-id-1 div.sk-serial::before {content: \"\";position: absolute;border-left: 1px solid gray;box-sizing: border-box;top: 0;bottom: 0;left: 50%;z-index: 0;}#sk-container-id-1 div.sk-serial {display: flex;flex-direction: column;align-items: center;background-color: white;padding-right: 0.2em;padding-left: 0.2em;position: relative;}#sk-container-id-1 div.sk-item {position: relative;z-index: 1;}#sk-container-id-1 div.sk-parallel {display: flex;align-items: stretch;justify-content: center;background-color: white;position: relative;}#sk-container-id-1 div.sk-item::before, #sk-container-id-1 div.sk-parallel-item::before {content: \"\";position: absolute;border-left: 1px solid gray;box-sizing: border-box;top: 0;bottom: 0;left: 50%;z-index: -1;}#sk-container-id-1 div.sk-parallel-item {display: flex;flex-direction: column;z-index: 1;position: relative;background-color: white;}#sk-container-id-1 div.sk-parallel-item:first-child::after {align-self: flex-end;width: 50%;}#sk-container-id-1 div.sk-parallel-item:last-child::after {align-self: flex-start;width: 50%;}#sk-container-id-1 div.sk-parallel-item:only-child::after {width: 0;}#sk-container-id-1 div.sk-dashed-wrapped {border: 1px dashed gray;margin: 0 0.4em 0.5em 0.4em;box-sizing: border-box;padding-bottom: 0.4em;background-color: white;}#sk-container-id-1 div.sk-label label {font-family: monospace;font-weight: bold;display: inline-block;line-height: 1.2em;}#sk-container-id-1 div.sk-label-container {text-align: center;}#sk-container-id-1 div.sk-container {/* jupyter's `normalize.less` sets `[hidden] { display: none; }` but bootstrap.min.css set `[hidden] { display: none !important; }` so we also need the `!important` here to be able to override the default hidden behavior on the sphinx rendered scikit-learn.org. See: https://github.com/scikit-learn/scikit-learn/issues/21755 */display: inline-block !important;position: relative;}#sk-container-id-1 div.sk-text-repr-fallback {display: none;}</style><div id=\"sk-container-id-1\" class=\"sk-top-container\"><div class=\"sk-text-repr-fallback\"><pre>ExtraTreesRegressor()</pre><b>In a Jupyter environment, please rerun this cell to show the HTML representation or trust the notebook. <br />On GitHub, the HTML representation is unable to render, please try loading this page with nbviewer.org.</b></div><div class=\"sk-container\" hidden><div class=\"sk-item\"><div class=\"sk-estimator sk-toggleable\"><input class=\"sk-toggleable__control sk-hidden--visually\" id=\"sk-estimator-id-1\" type=\"checkbox\" checked><label for=\"sk-estimator-id-1\" class=\"sk-toggleable__label sk-toggleable__label-arrow\">ExtraTreesRegressor</label><div class=\"sk-toggleable__content\"><pre>ExtraTreesRegressor()</pre></div></div></div></div></div>"
            ],
            "text/plain": [
              "ExtraTreesRegressor()"
            ]
          },
          "execution_count": 11,
          "metadata": {},
          "output_type": "execute_result"
        }
      ],
      "source": [
        "from sklearn.ensemble import ExtraTreesRegressor\n",
        "import matplotlib.pyplot as plt\n",
        "model = ExtraTreesRegressor()\n",
        "model.fit(X,y)"
      ]
    },
    {
      "cell_type": "code",
      "execution_count": 12,
      "metadata": {
        "id": "vHsLDmQn05DD",
        "outputId": "70ca0dba-3b72-4dbb-c07e-85613faaf01e"
      },
      "outputs": [
        {
          "name": "stdout",
          "output_type": "stream",
          "text": [
            "[0.09919882 0.12445665 0.26949124 0.12158113 0.04837611 0.17072949\n",
            " 0.02140656 0.06638893 0.04674367 0.0316274 ]\n"
          ]
        }
      ],
      "source": [
        "print(model.feature_importances_) #use inbuilt class feature_importances of tree based classifiers"
      ]
    },
    {
      "cell_type": "code",
      "execution_count": 13,
      "metadata": {
        "id": "dPWmL02I05DE",
        "outputId": "d8ff0cf5-e716-480f-fab9-9165f69fe090"
      },
      "outputs": [
        {
          "data": {
            "image/png": "[encoded data removed]",
            "text/plain": [
              "<Figure size 432x288 with 1 Axes>"
            ]
          },
          "metadata": {
            "needs_background": "light"
          },
          "output_type": "display_data"
        }
      ],
      "source": [
        "#plot graph of feature importances for better visualization\n",
        "feat_importances = pd.Series(model.feature_importances_, index=X.columns)\n",
        "feat_importances.nlargest(5).plot(kind='barh')\n",
        "plt.show()"
      ]
    },
    {
      "cell_type": "code",
      "execution_count": 14,
      "metadata": {
        "id": "u67QzSk305DE"
      },
      "outputs": [],
      "source": [
        "from sklearn.ensemble import ExtraTreesRegressor\n",
        "\n",
        "# Create and train an ExtraTreesRegressor model\n",
        "etr_model = ExtraTreesRegressor()\n",
        "etr_model.fit(X, y)\n",
        "\n",
        "# Get feature importances from the model\n",
        "feature_importances = etr_model.feature_importances_\n",
        "\n",
        "# Create a DataFrame to store feature names and their importances\n",
        "feature_importance_df = pd.DataFrame({'Feature': X.columns, 'Importance': feature_importances})\n",
        "\n",
        "# Sort the features by importance in descending order\n",
        "feature_importance_df = feature_importance_df.sort_values(by='Importance', ascending=False)\n",
        "\n",
        "# Select the top 5 features\n",
        "top_features = feature_importance_df['Feature'].head(5)\n",
        "\n",
        "# Create the feature variable X with the selected top features\n",
        "X = data[top_features]\n",
        "\n",
        "# Create the target variable y\n",
        "y = data['Total_Unemployment']\n"
      ]
    },
    {
      "cell_type": "code",
      "execution_count": 15,
      "metadata": {
        "id": "J3BqsahG05DE",
        "outputId": "6a544f82-d73b-4b7e-b79e-5894674f34ae"
      },
      "outputs": [
        {
          "name": "stdout",
          "output_type": "stream",
          "text": [
            "X_train shape: (18, 5)\n",
            "X_test shape: (5, 5)\n",
            "y_train shape: (18,)\n",
            "y_test shape: (5,)\n"
          ]
        }
      ],
      "source": [
        "from sklearn.model_selection import train_test_split\n",
        "\n",
        "# Split the data into training and testing sets\n",
        "X_train, X_test, y_train, y_test = train_test_split(X, y, test_size=0.2, random_state=42, shuffle=False)\n",
        "\n",
        "# 'test_size' specifies the proportion of the dataset to include in the testing set (e.g., 0.2 for 20%).\n",
        "# 'random_state' ensures reproducibility of the split; you can choose any integer.\n",
        "\n",
        "# Print the shapes of the training and testing sets to verify the split\n",
        "print(\"X_train shape:\", X_train.shape)\n",
        "print(\"X_test shape:\", X_test.shape)\n",
        "print(\"y_train shape:\", y_train.shape)\n",
        "print(\"y_test shape:\", y_test.shape)\n"
      ]
    },
    {
      "cell_type": "code",
      "execution_count": 16,
      "metadata": {
        "id": "vUh6zAgd05DF",
        "outputId": "3fed343b-b687-4019-c8ba-998646df4f3d"
      },
      "outputs": [
        {
          "name": "stdout",
          "output_type": "stream",
          "text": [
            "Linear Regression\n",
            "Model performance for Training set:\n",
            "- Root Mean Squared Error: 0.0255\n",
            "- Mean Absolute Error: 0.0212\n",
            "- R2 Score: 0.9784\n",
            "----------------------------------\n",
            "Model performance for Test set:\n",
            "- Root Mean Squared Error: 3.7805\n",
            "- Mean Absolute Error: 2.3774\n",
            "- R2 Score: -50.0971\n",
            "===================================\n",
            "\n",
            "\n",
            "K-Neighbors Regressor\n",
            "Model performance for Training set:\n",
            "- Root Mean Squared Error: 0.1469\n",
            "- Mean Absolute Error: 0.0644\n",
            "- R2 Score: 0.2788\n",
            "----------------------------------\n",
            "Model performance for Test set:\n",
            "- Root Mean Squared Error: 2.3781\n",
            "- Mean Absolute Error: 2.3112\n",
            "- R2 Score: -19.2190\n",
            "===================================\n",
            "\n",
            "\n",
            "Decision Tree\n",
            "Model performance for Training set:\n",
            "- Root Mean Squared Error: 0.0000\n",
            "- Mean Absolute Error: 0.0000\n",
            "- R2 Score: 1.0000\n",
            "----------------------------------\n",
            "Model performance for Test set:\n",
            "- Root Mean Squared Error: 2.1222\n",
            "- Mean Absolute Error: 1.9720\n",
            "- R2 Score: -15.1017\n",
            "===================================\n",
            "\n",
            "\n",
            "Random Forest Regressor\n",
            "Model performance for Training set:\n",
            "- Root Mean Squared Error: 0.0749\n",
            "- Mean Absolute Error: 0.0299\n",
            "- R2 Score: 0.8128\n",
            "----------------------------------\n",
            "Model performance for Test set:\n",
            "- Root Mean Squared Error: 2.1045\n",
            "- Mean Absolute Error: 2.0273\n",
            "- R2 Score: -14.8340\n",
            "===================================\n",
            "\n",
            "\n",
            "XGBRegressor\n",
            "Model performance for Training set:\n",
            "- Root Mean Squared Error: 0.0011\n",
            "- Mean Absolute Error: 0.0009\n",
            "- R2 Score: 1.0000\n",
            "----------------------------------\n",
            "Model performance for Test set:\n",
            "- Root Mean Squared Error: 1.7663\n",
            "- Mean Absolute Error: 1.6853\n",
            "- R2 Score: -10.1545\n",
            "===================================\n",
            "\n",
            "\n",
            "CatBoosting Regressor\n",
            "Model performance for Training set:\n",
            "- Root Mean Squared Error: 0.0020\n",
            "- Mean Absolute Error: 0.0017\n",
            "- R2 Score: 0.9999\n",
            "----------------------------------\n",
            "Model performance for Test set:\n",
            "- Root Mean Squared Error: 1.8896\n",
            "- Mean Absolute Error: 1.7888\n",
            "- R2 Score: -11.7653\n",
            "===================================\n",
            "\n",
            "\n",
            "AdaBoost Regressor\n",
            "Model performance for Training set:\n",
            "- Root Mean Squared Error: 0.0144\n",
            "- Mean Absolute Error: 0.0106\n",
            "- R2 Score: 0.9931\n",
            "----------------------------------\n",
            "Model performance for Test set:\n",
            "- Root Mean Squared Error: 1.7651\n",
            "- Mean Absolute Error: 1.6840\n",
            "- R2 Score: -10.1388\n",
            "===================================\n",
            "\n",
            "\n",
            "LGBMRegressor\n",
            "Model performance for Training set:\n",
            "- Root Mean Squared Error: 0.1730\n",
            "- Mean Absolute Error: 0.1240\n",
            "- R2 Score: -0.0000\n",
            "----------------------------------\n",
            "Model performance for Test set:\n",
            "- Root Mean Squared Error: 2.3049\n",
            "- Mean Absolute Error: 2.2434\n",
            "- R2 Score: -17.9942\n",
            "===================================\n",
            "\n",
            "\n",
            "The best model is: AdaBoost Regressor\n",
            "Test Set R2 Score for the best model is: -10.138775276721105\n",
            "Overfitting detected.\n"
          ]
        }
      ],
      "source": [
        "import numpy as np\n",
        "from sklearn.metrics import mean_absolute_error, mean_squared_error, r2_score\n",
        "from sklearn.linear_model import LinearRegression\n",
        "from sklearn.neighbors import KNeighborsRegressor\n",
        "from sklearn.tree import DecisionTreeRegressor\n",
        "from sklearn.ensemble import RandomForestRegressor, AdaBoostRegressor\n",
        "from xgboost import XGBRegressor\n",
        "from catboost import CatBoostRegressor\n",
        "from lightgbm import LGBMRegressor\n",
        "\n",
        "# Define a function to evaluate model performance\n",
        "def evaluate_model(true, predicted):\n",
        "    mae = mean_absolute_error(true, predicted)\n",
        "    mse = mean_squared_error(true, predicted)\n",
        "    rmse = np.sqrt(mse)\n",
        "    r2_square = r2_score(true, predicted)\n",
        "    return mae, rmse, r2_square\n",
        "\n",
        "# Create a dictionary of regression models\n",
        "models = {\n",
        "    \"Linear Regression\": LinearRegression(),\n",
        "    \"K-Neighbors Regressor\": KNeighborsRegressor(),\n",
        "    \"Decision Tree\": DecisionTreeRegressor(),\n",
        "    \"Random Forest Regressor\": RandomForestRegressor(),\n",
        "    \"XGBRegressor\": XGBRegressor(),\n",
        "    \"CatBoosting Regressor\": CatBoostRegressor(verbose=False),\n",
        "    \"AdaBoost Regressor\": AdaBoostRegressor(),\n",
        "    \"LGBMRegressor\": LGBMRegressor(),\n",
        "}\n",
        "\n",
        "# Split your data into X_train, X_test, y_train, y_test\n",
        "\n",
        "# Initialize variables to track the best model and its performance\n",
        "best_model_name = None\n",
        "best_test_r2 = -float('inf')\n",
        "best_test_mae = float('inf')\n",
        "best_test_rmse = float('inf')\n",
        "\n",
        "# Loop through the models and evaluate their performance\n",
        "for model_name, model in models.items():\n",
        "    model.fit(X_train, y_train)\n",
        "    y_train_pred = model.predict(X_train)\n",
        "    y_test_pred = model.predict(X_test)\n",
        "\n",
        "    train_mae, train_rmse, train_r2 = evaluate_model(y_train, y_train_pred)\n",
        "    test_mae, test_rmse, test_r2 = evaluate_model(y_test, y_test_pred)\n",
        "\n",
        "    print(model_name)\n",
        "    print('Model performance for Training set:')\n",
        "    print(\"- Root Mean Squared Error: {:.4f}\".format(train_rmse))\n",
        "    print(\"- Mean Absolute Error: {:.4f}\".format(train_mae))\n",
        "    print(\"- R2 Score: {:.4f}\".format(train_r2))\n",
        "    print('----------------------------------')\n",
        "    print('Model performance for Test set:')\n",
        "    print(\"- Root Mean Squared Error: {:.4f}\".format(test_rmse))\n",
        "    print(\"- Mean Absolute Error: {:.4f}\".format(test_mae))\n",
        "    print(\"- R2 Score: {:.4f}\".format(test_r2))\n",
        "    print('=' * 35)\n",
        "    print('\\n')\n",
        "\n",
        "    # Check if the current model has a higher test R2 score than the best model so far\n",
        "    if test_r2 > best_test_r2:\n",
        "        best_test_r2 = test_r2\n",
        "        best_test_mae = test_mae\n",
        "        best_test_rmse = test_rmse\n",
        "        best_model_name = model_name\n",
        "\n",
        "# Check for overfitting by comparing training and test R2 scores\n",
        "train_test_r2_difference = train_r2 - best_test_r2\n",
        "overfitting_detected = train_test_r2_difference > 0.1  # Adjust the threshold as needed\n",
        "\n",
        "if overfitting_detected:\n",
        "    print(\"The best model is:\", best_model_name)\n",
        "    print(\"Test Set R2 Score for the best model is:\", best_test_r2)\n",
        "    print(\"Overfitting detected.\")\n",
        "else:\n",
        "    print(\"No overfitting detected. The best model is:\", best_model_name)\n",
        "    print(\"Test Set R2 Score for the best model is:\", best_test_r2)\n",
        "\n",
        "# Include the best model in your list of models\n",
        "models[\"Best Model\"] = models[best_model_name]\n",
        "\n",
        "# Now, you can access the best model using models[\"Best Model\"]\n"
      ]
    },
    {
      "cell_type": "code",
      "execution_count": 17,
      "metadata": {
        "id": "zfIk1LcZ05DF",
        "outputId": "3a63eddc-8359-451b-a9a6-779017b746c2"
      },
      "outputs": [
        {
          "name": "stdout",
          "output_type": "stream",
          "text": [
            "Best Hyperparameters: {'bootstrap': True, 'max_depth': 20, 'max_features': 'auto', 'min_samples_leaf': 1, 'min_samples_split': 10, 'n_estimators': 100}\n",
            "Root Mean Squared Error (RMSE): 2.0570926540972403\n",
            "Mean Absolute Error (MAE): 1.9809801846617436\n",
            "R2 Score: -14.128958425838844\n"
          ]
        }
      ],
      "source": [
        "from sklearn.ensemble import RandomForestRegressor\n",
        "from sklearn.model_selection import GridSearchCV\n",
        "\n",
        "# Define the hyperparameters and their possible values\n",
        "param_grid = {\n",
        "    'n_estimators': [100, 200, 300],\n",
        "    'max_depth': [None, 10, 20, 30],\n",
        "    'min_samples_split': [2, 5, 10],\n",
        "    'min_samples_leaf': [1, 2, 4],\n",
        "    'max_features': ['auto', 'sqrt'],\n",
        "    'bootstrap': [True, False]\n",
        "}\n",
        "\n",
        "# Create a Random Forest Regressor\n",
        "rf = RandomForestRegressor()\n",
        "\n",
        "# Create the GridSearchCV object with cross-validation\n",
        "grid_search = GridSearchCV(estimator=rf, param_grid=param_grid,\n",
        "                           scoring='neg_mean_squared_error', cv=5, n_jobs=-1)\n",
        "\n",
        "# Fit the model to find the best hyperparameters\n",
        "grid_search.fit(X_train, y_train)\n",
        "\n",
        "# Get the best hyperparameters and best model\n",
        "best_params = grid_search.best_params_\n",
        "best_rf_model = grid_search.best_estimator_\n",
        "\n",
        "# Evaluate the best model on the test set\n",
        "y_test_pred = best_rf_model.predict(X_test)\n",
        "rmse = np.sqrt(mean_squared_error(y_test, y_test_pred))\n",
        "mae = mean_absolute_error(y_test, y_test_pred)\n",
        "r2 = r2_score(y_test, y_test_pred)\n",
        "\n",
        "# Print the best hyperparameters and evaluation metrics\n",
        "print(\"Best Hyperparameters:\", best_params)\n",
        "print(\"Root Mean Squared Error (RMSE):\", rmse)\n",
        "print(\"Mean Absolute Error (MAE):\", mae)\n",
        "print(\"R2 Score:\", r2)\n",
        "\n"
      ]
    },
    {
      "cell_type": "code",
      "execution_count": 18,
      "metadata": {
        "id": "Lwu80Ik405DF",
        "outputId": "4a5b620c-c51a-4c5c-e50c-3d43db35f4af"
      },
      "outputs": [
        {
          "data": {
            "image/png": "[encoded data removed]",
            "text/plain": [
              "<Figure size 864x432 with 1 Axes>"
            ]
          },
          "metadata": {
            "needs_background": "light"
          },
          "output_type": "display_data"
        },
        {
          "data": {
            "text/plain": [
              "['best_random_forest_model.pkl']"
            ]
          },
          "execution_count": 18,
          "metadata": {},
          "output_type": "execute_result"
        }
      ],
      "source": [
        "import matplotlib.pyplot as plt\n",
        "import joblib\n",
        "from sklearn.metrics import mean_squared_error, mean_absolute_error, r2_score\n",
        "\n",
        "# Fit the Random Forest Regressor with the best hyperparameters\n",
        "best_rf_model = RandomForestRegressor(bootstrap=True, max_depth=10, max_features='sqrt',\n",
        "                                     min_samples_leaf=1, min_samples_split=10, n_estimators=100, n_jobs=-1)\n",
        "best_rf_model.fit(X_train, y_train)\n",
        "\n",
        "# Predictions on training and testing data\n",
        "y_train_pred = best_rf_model.predict(X_train)\n",
        "y_test_pred = best_rf_model.predict(X_test)\n",
        "\n",
        "# Calculate RMSE for both training and testing data\n",
        "train_rmse = np.sqrt(mean_squared_error(y_train, y_train_pred))\n",
        "test_rmse = np.sqrt(mean_squared_error(y_test, y_test_pred))\n",
        "\n",
        "# Create lists of errors for plotting\n",
        "train_errors = [train_rmse] * len(X_train)\n",
        "test_errors = [test_rmse] * len(X_test)\n",
        "\n",
        "# Plot the errors\n",
        "plt.figure(figsize=(12, 6))\n",
        "plt.plot(train_errors, label='Train Error', linewidth=2)\n",
        "plt.plot(test_errors, label='Test Error', linewidth=2)\n",
        "plt.title(\"Train and Test Errors for Random Forest Regressor\")\n",
        "plt.xlabel(\"Data Points\")\n",
        "plt.ylabel(\"Root Mean Squared Error (RMSE)\")\n",
        "plt.legend()\n",
        "plt.show()\n",
        "\n",
        "# Save the best model to a .pkl file\n",
        "joblib.dump(best_rf_model, 'best_random_forest_model.pkl')\n"
      ]
    },
    {
      "cell_type": "code",
      "execution_count": 19,
      "metadata": {},
      "outputs": [
        {
          "name": "stdout",
          "output_type": "stream",
          "text": [
            "Predictions on the training data:\n",
            "[3.00486582 3.0090853  3.0090853  3.00486582 3.00482515 2.99008626\n",
            " 2.96310841 2.95922647 2.96113484 2.91895715 2.87608281 2.85442782\n",
            " 2.85235282 2.85235282 2.85235282 2.86541532 2.93078217 3.2077801 ]\n",
            "Predictions on the testing data:\n",
            "[3.2077801  3.2077801  3.2077801  3.10028928 3.10028928]\n"
          ]
        }
      ],
      "source": [
        "# Print the predictions\n",
        "print(\"Predictions on the training data:\")\n",
        "print(y_train_pred)\n",
        "\n",
        "print(\"Predictions on the testing data:\")\n",
        "print(y_test_pred)"
      ]
    },
    {
      "cell_type": "code",
      "execution_count": 20,
      "metadata": {
        "id": "l0zgBzkn05DF"
      },
      "outputs": [
        {
          "data": {
            "text/plain": [
              "'C:\\\\Users\\\\wanji\\\\Desktop\\\\integration and development\\\\best_random_forest_model.pkl'"
            ]
          },
          "execution_count": 20,
          "metadata": {},
          "output_type": "execute_result"
        }
      ],
      "source": [
        "import joblib\n",
        "\n",
        "# Save the best model to a file using joblib\n",
        "joblib.dump(best_rf_model, 'best_random_forest_model.pkl')\n",
        "\n",
        "# Define the directory path to move the model file\n",
        "destination_path = r'C:\\Users\\wanji\\Desktop\\integration and development\\best_random_forest_model.pkl'\n",
        "\n",
        "# Move the saved model to the specified directory\n",
        "import shutil\n",
        "shutil.move('best_random_forest_model.pkl', destination_path)\n"
      ]
    },
    {
      "cell_type": "code",
      "execution_count": null,
      "metadata": {},
      "outputs": [],
      "source": []
    }
  ],
  "metadata": {
    "colab": {
      "provenance": []
    },
    "kernelspec": {
      "display_name": "kenya",
      "language": "python",
      "name": "python3"
    },
    "language_info": {
      "codemirror_mode": {
        "name": "ipython",
        "version": 3
      },
      "file_extension": ".py",
      "mimetype": "text/x-python",
      "name": "python",
      "nbconvert_exporter": "python",
      "pygments_lexer": "ipython3",
      "version": "3.8.5"
    }
  },
  "nbformat": 4,
  "nbformat_minor": 0
}
